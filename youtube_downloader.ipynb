{
 "cells": [
  {
   "cell_type": "code",
   "execution_count": null,
   "id": "b0af6fe7",
   "metadata": {},
   "outputs": [],
   "source": [
    "!pip install pytube"
   ]
  },
  {
   "cell_type": "code",
   "execution_count": null,
   "id": "812c57e7",
   "metadata": {},
   "outputs": [],
   "source": [
    "from pytube import YouTube\n",
    "import tkinter as tk\n",
    "from tkinter import filedialog\n",
    "\n",
    "def progress_function(stream, chunk, bytes_remaining):\n",
    "    total_size = stream.filesize\n",
    "    bytes_downloaded = total_size - bytes_remaining\n",
    "    percentage = bytes_downloaded / total_size * 100\n",
    "    print(f\"\\rDownloading... {percentage:.2f}%\", end=\"\")  # updates in same line\n",
    "\n",
    "def download_video(url, save_path):\n",
    "    try:\n",
    "        yt = YouTube(url, on_progress_callback=progress_function)\n",
    "        print(f\"\\nTitle: {yt.title}\")\n",
    "        print(f\"Author: {yt.author}\")\n",
    "        streams = yt.streams.filter(progressive=True, file_extension=\"mp4\")\n",
    "        highest_res_stream = streams.get_highest_resolution()\n",
    "        print(f\"Resolution: {highest_res_stream.resolution}\")\n",
    "        print(\"Downloading started...\\n\")\n",
    "        highest_res_stream.download(output_path=save_path)\n",
    "        print(\"\\n✅ Video downloaded successfully!\")\n",
    "    except Exception as e:\n",
    "        print(f\"\\n❌ Error: {e}\")\n",
    "\n",
    "def open_file_dialog():\n",
    "    folder = filedialog.askdirectory()\n",
    "    if folder:\n",
    "        print(f\"Selected folder: {folder}\")\n",
    "    return folder\n",
    "\n",
    "if __name__ == \"__main__\":\n",
    "    root = tk.Tk()\n",
    "    root.withdraw()\n",
    "\n",
    "    video_url = input(\"Please enter a YouTube URL: \")\n",
    "    save_dir = open_file_dialog()\n",
    "\n",
    "    if save_dir:\n",
    "        print(\"Preparing to download...\")\n",
    "        download_video(video_url, save_dir)\n",
    "    else:\n",
    "        print(\"Invalid save location.\")\n"
   ]
  }
 ],
 "metadata": {
  "kernelspec": {
   "display_name": "Python 3",
   "language": "python",
   "name": "python3"
  },
  "language_info": {
   "codemirror_mode": {
    "name": "ipython",
    "version": 3
   },
   "file_extension": ".py",
   "mimetype": "text/x-python",
   "name": "python",
   "nbconvert_exporter": "python",
   "pygments_lexer": "ipython3",
   "version": "3.13.9"
  }
 },
 "nbformat": 4,
 "nbformat_minor": 5
}
